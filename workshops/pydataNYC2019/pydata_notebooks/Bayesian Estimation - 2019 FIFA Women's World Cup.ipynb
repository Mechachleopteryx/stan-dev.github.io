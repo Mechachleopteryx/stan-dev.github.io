{
 "cells": [
  {
   "cell_type": "markdown",
   "metadata": {},
   "source": [
    "# Bayesian Inference - 2019 FIFA Women's World Cup"
   ]
  },
  {
   "cell_type": "markdown",
   "metadata": {},
   "source": [
    "#### General Remarks\n",
    "\n",
    "Predicting the world cup is difficult because there's not a lot of historical data.\n",
    "\n",
    "* Very little team data\n",
    "  + Different teams every 4 years\n",
    "  + Different players on each team\n",
    "\n",
    "* Some player data"
   ]
  },
  {
   "cell_type": "markdown",
   "metadata": {},
   "source": [
    "### 2019 FIFA Women's World Cup Data\n",
    "\n",
    "- Data downloaded from [538 by Nate Silver](https://fivethirtyeight.com/methodology/how-our-club-soccer-predictions-work/)\n",
    "\n",
    "- Number of teams participating: 24\n",
    "- Per-team Soccer Power Index (SPI) score - team ranking prior to start of tournament\n",
    "- Number of matches played up through the end of the quarterfinals round:  48\n",
    "- Match data:\n",
    "    + identity of team 1\n",
    "    + identity of team 2\n",
    "    + goals scored by team 1\n",
    "    + goals scored by team 2\n"
   ]
  },
  {
   "cell_type": "code",
   "execution_count": null,
   "metadata": {},
   "outputs": [],
   "source": [
    "import numpy as np\n",
    "import pandas as pd\n",
    "matches = pd.read_csv('womens_world_cup_2019.csv')\n",
    "matches.head(7)"
   ]
  },
  {
   "cell_type": "code",
   "execution_count": null,
   "metadata": {},
   "outputs": [],
   "source": [
    "countries = pd.read_csv('country_prior.csv')"
   ]
  },
  {
   "cell_type": "code",
   "execution_count": null,
   "metadata": {},
   "outputs": [],
   "source": [
    "print(countries.head())\n",
    "print('...')\n",
    "print(countries.tail())"
   ]
  },
  {
   "cell_type": "markdown",
   "metadata": {},
   "source": [
    "## Stan code"
   ]
  },
  {
   "cell_type": "code",
   "execution_count": null,
   "metadata": {},
   "outputs": [],
   "source": [
    "from cmdstanpy import cmdstan_path, CmdStanModel\n",
    "\n",
    "model_wwc = CmdStanModel(stan_file='worldcup_pydata.stan')\n",
    "model_wwc.compile()\n",
    "print(model_wwc.code())"
   ]
  },
  {
   "cell_type": "code",
   "execution_count": null,
   "metadata": {},
   "outputs": [],
   "source": [
    "wwc_fit=model_wwc.sample(data='wwc_2019.data.json')\n",
    "wwc_fit.summary().round(decimals=2)"
   ]
  },
  {
   "cell_type": "markdown",
   "metadata": {},
   "source": [
    "### Estimate of per-team ability"
   ]
  },
  {
   "cell_type": "code",
   "execution_count": null,
   "metadata": {},
   "outputs": [],
   "source": [
    "# work with summary\n",
    "wwc_summary = wwc_fit.summary().round(decimals = 2)\n",
    "rownames = wwc_summary.index.tolist()\n",
    "\n",
    "\n",
    "ability_filter = [param for param in rownames if param.startswith('ability')]\n",
    "abilities = wwc_summary.loc[ability_filter]\n",
    "names = abilities.index.tolist()\n",
    "renames = countries['country'].tolist()\n",
    "mapping = dict(zip(names, renames))\n",
    "abilities.rename(index=mapping, inplace=True)\n",
    "abilities.iloc[:,3:6]"
   ]
  },
  {
   "cell_type": "markdown",
   "metadata": {},
   "source": [
    "## Posterior Predictive Check\n",
    "\n",
    "In `generated quantities` block, replicate observed data `y` as `y_rep`\n",
    "\n",
    "```\n",
    "generated quantities {\n",
    "  // posterior predictive check\n",
    "  // replicate outcome based on the current estimate of our parameters\n",
    "  vector[N] y_rep;\n",
    "  for (n in 1:N) {\n",
    "    y_rep[n] = normal_rng(ability[team_1[n]] - ability[team_2[n]], sigma_y);\n",
    "  }\n",
    "}\n",
    "```\n"
   ]
  },
  {
   "cell_type": "code",
   "execution_count": null,
   "metadata": {
    "scrolled": true
   },
   "outputs": [],
   "source": [
    "yrep_filter = [param for param in rownames if param.startswith('y_rep')]\n",
    "yreps = wwc_summary.loc[yrep_filter]\n",
    "names = yreps.index.tolist()\n",
    "\n",
    "yreps.iloc[:,3:6]"
   ]
  },
  {
   "cell_type": "markdown",
   "metadata": {},
   "source": [
    "##### Plot per-match replicates, showing 5% to 95% credible interval, mean (black), actual estimate (red)\n"
   ]
  },
  {
   "cell_type": "code",
   "execution_count": null,
   "metadata": {},
   "outputs": [],
   "source": [
    "# custom plotting, thanks to PyLadies crew!\n",
    "# find credible intervals\n",
    "import matplotlib.pyplot as plt\n",
    "from coefplot import coefficient_plot\n",
    "yrep_ci= pd.DataFrame({'midway': yreps['50%'].values,\n",
    "                       'names': matches['match_list']})\n"
   ]
  },
  {
   "cell_type": "code",
   "execution_count": null,
   "metadata": {},
   "outputs": [],
   "source": [
    "yrep_ci.loc[:, 'left'] = yreps['5%'].values\n",
    "yrep_ci.loc[:, 'right'] = yreps['95%'].values\n",
    "yrep_ci"
   ]
  },
  {
   "cell_type": "code",
   "execution_count": null,
   "metadata": {},
   "outputs": [],
   "source": [
    "ys = np.array([matches['score_1'][i]-matches['score_2'][i]  for i in range(len(matches))])\n",
    "ys"
   ]
  },
  {
   "cell_type": "code",
   "execution_count": null,
   "metadata": {},
   "outputs": [],
   "source": [
    "coefficient_plot(yrep_ci['midway'], yrep_ci['left'], \n",
    "                 yrep_ci['right'], ys,\n",
    "                 names=yrep_ci['names'],\n",
    "                 title='Match Score Differentials, 5%-95% CI, black = mean, red = actual', \n",
    "                fig_size = (8,12))\n",
    "plt.tight_layout()"
   ]
  },
  {
   "cell_type": "markdown",
   "metadata": {},
   "source": [
    "_note:  South Korea SPI rank was 13 out of 24 teams - should have done better_"
   ]
  },
  {
   "cell_type": "code",
   "execution_count": null,
   "metadata": {},
   "outputs": [],
   "source": []
  }
 ],
 "metadata": {
  "kernelspec": {
   "display_name": "Python 3",
   "language": "python",
   "name": "python3"
  },
  "language_info": {
   "codemirror_mode": {
    "name": "ipython",
    "version": 3
   },
   "file_extension": ".py",
   "mimetype": "text/x-python",
   "name": "python",
   "nbconvert_exporter": "python",
   "pygments_lexer": "ipython3",
   "version": "3.7.0"
  }
 },
 "nbformat": 4,
 "nbformat_minor": 2
}
