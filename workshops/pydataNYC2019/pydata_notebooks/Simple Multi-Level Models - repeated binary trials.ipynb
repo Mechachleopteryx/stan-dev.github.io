{
 "cells": [
  {
   "cell_type": "markdown",
   "metadata": {},
   "source": [
    "# From Simple Linear Regression to Multi-level Models\n",
    "\n",
    "**Example:  Major League Baseball Player Batting Ability**\n",
    "\n",
    "- Stan Case Study: [Hierarchical Partial Pooling for Repeated Binary Trials](https://mc-stan.org/users/documentation/case-studies/pool-binary-trials.html)\"\n",
    "\n",
    "- Data: batting records for Major League Baseball players in 1975\n",
    "\n",
    "- For each player, observe number of hits in first 45 at-bats.\n",
    "\n",
    "- Estimate probability of hit per at-bat.\n",
    "\n",
    "- Compare predicted success with actual outcomes during the rest of the season.\n",
    "\n",
    "- Three models:  complete pooling; no pooling; some pooling"
   ]
  },
  {
   "cell_type": "code",
   "execution_count": null,
   "metadata": {},
   "outputs": [],
   "source": [
    "# Use CmdStanPy, also numpy and pandas\n",
    "import numpy as np\n",
    "import pandas as pd\n",
    "\n",
    "from cmdstanpy import cmdstan_path, CmdStanModel\n",
    "print('using CmdStan: {}'.format(cmdstan_path()))"
   ]
  },
  {
   "cell_type": "code",
   "execution_count": null,
   "metadata": {
    "slideshow": {
     "slide_type": "-"
    }
   },
   "outputs": [],
   "source": [
    "#  Data: batting records for Major League Baseball players in 1975\n",
    "season_1975 = pd.read_csv('efron-morris-75-data.csv')\n",
    "season_1975.iloc[0:5,0:5]"
   ]
  },
  {
   "cell_type": "code",
   "execution_count": null,
   "metadata": {},
   "outputs": [],
   "source": [
    "import statistics\n",
    "players = [' '.join([season_1975.iloc[x,0],season_1975.iloc[x,1]]) for x in range(season_1975.shape[0])]\n",
    "mapping = dict(zip(range(len(players)), players))\n",
    "season_1975.rename(index=mapping, inplace=True)\n",
    "plt = season_1975['BattingAverage'].plot.bar()\n",
    "plt.axhline(linewidth=2, color='g', y=statistics.mean(season_1975['BattingAverage']))\n"
   ]
  },
  {
   "cell_type": "code",
   "execution_count": null,
   "metadata": {},
   "outputs": [],
   "source": [
    "#  Extract relevant columns into dictionary of inputs:  'N', 'K', 'y'\n",
    "data_dict = {'N': season_1975.shape[0], 'y' : season_1975['Hits'].tolist(), 'K' : season_1975['At-Bats'].tolist()}\n",
    "data_dict"
   ]
  },
  {
   "cell_type": "markdown",
   "metadata": {},
   "source": [
    "#### Binomial distribution n=45, p=.400"
   ]
  },
  {
   "cell_type": "code",
   "execution_count": null,
   "metadata": {
    "slideshow": {
     "slide_type": "-"
    }
   },
   "outputs": [],
   "source": [
    "# expected number of hits in quantiles 1:99 of binomial pmf\n",
    "from scipy.stats import binom\n",
    "import matplotlib.pyplot as plt\n",
    "## plug in stats for Roberto Clemente\n",
    "n = 45\n",
    "p = 0.4\n",
    "x = np.arange(binom.ppf(0.01, n, p), binom.ppf(0.99, n, p))\n",
    "\n",
    "# plot with matplotlib\n",
    "fig, ax = plt.subplots(1, 1)\n",
    "rv = binom(n, p)\n",
    "ax.plot(x, binom.pmf(x, n, p), 'bo', ms=8, label='binom pmf')\n",
    "ax.vlines(x, 0, rv.pmf(x), colors='k', linestyles='-', lw=1,\n",
    "          label='Expected hits in 45-at bats, batting average .400')\n",
    "box = ax.get_position()\n",
    "ax.set_position([box.x0, box.y0, box.width, box.height*0.8])\n",
    "ax.legend(loc='lower center', bbox_to_anchor=(0.5, 1.05),\n",
    "          fancybox=True, shadow=True)\n",
    "\n",
    "p = plt.show()\n",
    "p"
   ]
  },
  {
   "cell_type": "markdown",
   "metadata": {},
   "source": [
    "### Model 1:  Complete Pooling - `simple_pool.stan`\n",
    "\n",
    "All players are the same; single estimate of player ability."
   ]
  },
  {
   "cell_type": "code",
   "execution_count": null,
   "metadata": {},
   "outputs": [],
   "source": [
    "model_complete_pool = CmdStanModel(stan_file='simple_pool.stan')\n",
    "print(model_complete_pool.code())\n",
    "\n",
    "model_complete_pool.compile()\n",
    "complete_pool_fit = model_complete_pool.sample(data=data_dict)\n",
    "complete_pool_fit.summary().round(decimals=2)"
   ]
  },
  {
   "cell_type": "markdown",
   "metadata": {},
   "source": [
    "### Model 2:  No Pooling - `simple_no_pool.stan`\n",
    "\n",
    "Every player is different - examine estimates for top 5 players in the dataset."
   ]
  },
  {
   "cell_type": "code",
   "execution_count": null,
   "metadata": {},
   "outputs": [],
   "source": [
    "model_no_pool = CmdStanModel(stan_file='simple_no_pool.stan')\n",
    "print(model_no_pool.code())\n",
    "\n",
    "model_no_pool.compile()\n",
    "no_pool_fit = model_no_pool.sample(data=data_dict)\n",
    "no_pool_fit.summary().round(decimals=2).iloc[0:5,:]"
   ]
  },
  {
   "cell_type": "markdown",
   "metadata": {},
   "source": [
    "### Model 3:  Partial Pooling - `simple_hier.stan`\n",
    "\n",
    "There is a general population of players, estimate group-level ability together with individual player ability."
   ]
  },
  {
   "cell_type": "code",
   "execution_count": null,
   "metadata": {
    "scrolled": true
   },
   "outputs": [],
   "source": [
    "model_hier = CmdStanModel(stan_file='simple_hier.stan')\n",
    "print(model_hier.code())\n",
    "\n",
    "model_hier.compile()\n",
    "hier_fit = model_hier.sample(data=data_dict, adapt_delta=0.95)\n",
    "hier_fit.summary().round(decimals=2).iloc[0:7,:]"
   ]
  },
  {
   "cell_type": "code",
   "execution_count": null,
   "metadata": {},
   "outputs": [],
   "source": [
    "hier_fit.diagnose()"
   ]
  },
  {
   "cell_type": "code",
   "execution_count": null,
   "metadata": {},
   "outputs": [],
   "source": [
    "# Visualization\n",
    "\n",
    "# Get thetas from no pooling model\n",
    "players_summary_no_pool = no_pool_fit.summary().iloc[1:,0]\n",
    "players_summary_no_pool.index = players\n",
    "\n",
    "# Get thetas from partial pooling  model\n",
    "players_summary_hier = hier_fit.summary().iloc[3:,0]\n",
    "players_summary_hier.index = players\n",
    "\n",
    "players_summary = pd.DataFrame(dict(no_pooling = players_summary_no_pool, partial_pooling = players_summary_hier))\n",
    "\n",
    "# Plot\n",
    "plt = players_summary.plot.bar()\n",
    "# Add complete pooling estimate\n",
    "plt.axhline(linewidth=2, color='g', y=0.27)"
   ]
  },
  {
   "cell_type": "code",
   "execution_count": null,
   "metadata": {},
   "outputs": [],
   "source": []
  }
 ],
 "metadata": {
  "celltoolbar": "Slideshow",
  "kernelspec": {
   "display_name": "Python 3",
   "language": "python",
   "name": "python3"
  },
  "language_info": {
   "codemirror_mode": {
    "name": "ipython",
    "version": 3
   },
   "file_extension": ".py",
   "mimetype": "text/x-python",
   "name": "python",
   "nbconvert_exporter": "python",
   "pygments_lexer": "ipython3",
   "version": "3.7.0"
  },
  "nbpresent": {
   "slides": {
    "06453776-a9a6-4619-b385-0c2ffd553b61": {
     "id": "06453776-a9a6-4619-b385-0c2ffd553b61",
     "prev": "9ba02565-c487-4cf6-b8a3-07ea942ef8b4",
     "regions": {
      "d5e6716b-6876-4b56-818d-e21fd7122507": {
       "attrs": {
        "height": 0.8,
        "width": 0.8,
        "x": 0.1,
        "y": 0.1
       },
       "content": {
        "cell": "e28bc545-2e96-4107-9992-4f8ebd4b3bfd",
        "part": "whole"
       },
       "id": "d5e6716b-6876-4b56-818d-e21fd7122507"
      }
     }
    },
    "0bf02f37-969c-41bc-b8fc-b8e4ba34a5c0": {
     "id": "0bf02f37-969c-41bc-b8fc-b8e4ba34a5c0",
     "prev": "8bf1a541-96fa-435b-9b05-cef1cb1dafd6",
     "regions": {
      "49d11c83-5a4e-45c2-8c5e-828b59de6d1a": {
       "attrs": {
        "height": 0.8,
        "width": 0.8,
        "x": 0.1,
        "y": 0.1
       },
       "content": {
        "cell": "dda3317b-d2f2-484a-8c38-839494e9317d",
        "part": "whole"
       },
       "id": "49d11c83-5a4e-45c2-8c5e-828b59de6d1a"
      }
     }
    },
    "4ea017d8-8674-417c-8abc-43b026feef2d": {
     "id": "4ea017d8-8674-417c-8abc-43b026feef2d",
     "prev": "06453776-a9a6-4619-b385-0c2ffd553b61",
     "regions": {
      "18443ed3-6da7-4094-a7f3-eb180c1099be": {
       "attrs": {
        "height": 0.8,
        "width": 0.8,
        "x": 0.1,
        "y": 0.1
       },
       "content": {
        "cell": "6c619c0b-5e18-4793-9917-a5def1de286b",
        "part": "whole"
       },
       "id": "18443ed3-6da7-4094-a7f3-eb180c1099be"
      }
     }
    },
    "5e59434c-f338-4b15-8dfb-a451bdbb2f0e": {
     "id": "5e59434c-f338-4b15-8dfb-a451bdbb2f0e",
     "prev": null,
     "regions": {
      "5a55749c-3074-405b-867d-19cf6deb17ec": {
       "attrs": {
        "height": 0.8,
        "width": 0.8,
        "x": 0.1,
        "y": 0.1
       },
       "content": {
        "cell": "52dff389-18f7-4e2f-8800-ca1b6296a2e1",
        "part": "whole"
       },
       "id": "5a55749c-3074-405b-867d-19cf6deb17ec"
      }
     }
    },
    "8bf1a541-96fa-435b-9b05-cef1cb1dafd6": {
     "id": "8bf1a541-96fa-435b-9b05-cef1cb1dafd6",
     "prev": "e7eab9c0-57fa-49ee-82c6-067cd840568d",
     "regions": {
      "c2d62449-c358-423d-9f56-21011d8509c9": {
       "attrs": {
        "height": 0.8,
        "width": 0.8,
        "x": 0.1,
        "y": 0.1
       },
       "content": {
        "cell": "b0d37f36-6144-4f63-9ebf-1cb76e88cbad",
        "part": "whole"
       },
       "id": "c2d62449-c358-423d-9f56-21011d8509c9"
      }
     }
    },
    "9a17feae-62f3-4e77-a182-7f6950b8e225": {
     "id": "9a17feae-62f3-4e77-a182-7f6950b8e225",
     "prev": "5e59434c-f338-4b15-8dfb-a451bdbb2f0e",
     "regions": {
      "4cfff640-fa0b-474a-8015-751245e5c6ae": {
       "attrs": {
        "height": 0.8,
        "width": 0.8,
        "x": 0.1,
        "y": 0.1
       },
       "content": {
        "cell": "ac4a7395-7ba1-402e-980c-cbbb34484ea6",
        "part": "whole"
       },
       "id": "4cfff640-fa0b-474a-8015-751245e5c6ae"
      }
     }
    },
    "9ba02565-c487-4cf6-b8a3-07ea942ef8b4": {
     "id": "9ba02565-c487-4cf6-b8a3-07ea942ef8b4",
     "prev": "0bf02f37-969c-41bc-b8fc-b8e4ba34a5c0",
     "regions": {
      "09b9d630-293c-415f-b143-e0dd2a473ae2": {
       "attrs": {
        "height": 0.8,
        "width": 0.8,
        "x": 0.1,
        "y": 0.1
       },
       "content": {
        "cell": "47b09a64-3039-44f0-993f-caafc449e473",
        "part": "whole"
       },
       "id": "09b9d630-293c-415f-b143-e0dd2a473ae2"
      }
     }
    },
    "e7eab9c0-57fa-49ee-82c6-067cd840568d": {
     "id": "e7eab9c0-57fa-49ee-82c6-067cd840568d",
     "prev": "9a17feae-62f3-4e77-a182-7f6950b8e225",
     "regions": {
      "77f32b8e-bc79-48d2-a075-7df93ad63659": {
       "attrs": {
        "height": 0.8,
        "width": 0.8,
        "x": 0.1,
        "y": 0.1
       },
       "content": {
        "cell": "b44985d3-8671-4e39-9956-73da81065396",
        "part": "whole"
       },
       "id": "77f32b8e-bc79-48d2-a075-7df93ad63659"
      }
     }
    }
   },
   "themes": {}
  }
 },
 "nbformat": 4,
 "nbformat_minor": 2
}
